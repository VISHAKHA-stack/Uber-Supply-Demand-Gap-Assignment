{
 "cells": [
  {
   "cell_type": "markdown",
   "id": "f357a8fb",
   "metadata": {},
   "source": [
    "# Uber supply demand gap assignment"
   ]
  },
  {
   "cell_type": "code",
   "execution_count": 1,
   "id": "c51d1eca",
   "metadata": {},
   "outputs": [],
   "source": [
    "#Importing the libraries needed.\n",
    "import warnings\n",
    "warnings.filterwarnings('ignore')\n",
    "import numpy as np\n",
    "import pandas as pd\n",
    "import matplotlib.pyplot as plt\n",
    "import seaborn as sns"
   ]
  },
  {
   "cell_type": "code",
   "execution_count": 2,
   "id": "fb7ee02f",
   "metadata": {},
   "outputs": [
    {
     "data": {
      "text/html": [
       "<div>\n",
       "<style scoped>\n",
       "    .dataframe tbody tr th:only-of-type {\n",
       "        vertical-align: middle;\n",
       "    }\n",
       "\n",
       "    .dataframe tbody tr th {\n",
       "        vertical-align: top;\n",
       "    }\n",
       "\n",
       "    .dataframe thead th {\n",
       "        text-align: right;\n",
       "    }\n",
       "</style>\n",
       "<table border=\"1\" class=\"dataframe\">\n",
       "  <thead>\n",
       "    <tr style=\"text-align: right;\">\n",
       "      <th></th>\n",
       "      <th>Request id</th>\n",
       "      <th>Pickup point</th>\n",
       "      <th>Driver id</th>\n",
       "      <th>Status</th>\n",
       "      <th>Request timestamp</th>\n",
       "      <th>Drop timestamp</th>\n",
       "    </tr>\n",
       "  </thead>\n",
       "  <tbody>\n",
       "    <tr>\n",
       "      <th>0</th>\n",
       "      <td>619</td>\n",
       "      <td>Airport</td>\n",
       "      <td>1.0</td>\n",
       "      <td>Trip Completed</td>\n",
       "      <td>11/7/2016 11:51</td>\n",
       "      <td>11/7/2016 13:00</td>\n",
       "    </tr>\n",
       "    <tr>\n",
       "      <th>1</th>\n",
       "      <td>867</td>\n",
       "      <td>Airport</td>\n",
       "      <td>1.0</td>\n",
       "      <td>Trip Completed</td>\n",
       "      <td>11/7/2016 17:57</td>\n",
       "      <td>11/7/2016 18:47</td>\n",
       "    </tr>\n",
       "    <tr>\n",
       "      <th>2</th>\n",
       "      <td>1807</td>\n",
       "      <td>City</td>\n",
       "      <td>1.0</td>\n",
       "      <td>Trip Completed</td>\n",
       "      <td>12/7/2016 9:17</td>\n",
       "      <td>12/7/2016 9:58</td>\n",
       "    </tr>\n",
       "    <tr>\n",
       "      <th>3</th>\n",
       "      <td>2532</td>\n",
       "      <td>Airport</td>\n",
       "      <td>1.0</td>\n",
       "      <td>Trip Completed</td>\n",
       "      <td>12/7/2016 21:08</td>\n",
       "      <td>12/7/2016 22:03</td>\n",
       "    </tr>\n",
       "    <tr>\n",
       "      <th>4</th>\n",
       "      <td>3112</td>\n",
       "      <td>City</td>\n",
       "      <td>1.0</td>\n",
       "      <td>Trip Completed</td>\n",
       "      <td>13-07-2016 08:33:16</td>\n",
       "      <td>13-07-2016 09:25:47</td>\n",
       "    </tr>\n",
       "    <tr>\n",
       "      <th>5</th>\n",
       "      <td>3879</td>\n",
       "      <td>Airport</td>\n",
       "      <td>1.0</td>\n",
       "      <td>Trip Completed</td>\n",
       "      <td>13-07-2016 21:57:28</td>\n",
       "      <td>13-07-2016 22:28:59</td>\n",
       "    </tr>\n",
       "    <tr>\n",
       "      <th>6</th>\n",
       "      <td>4270</td>\n",
       "      <td>Airport</td>\n",
       "      <td>1.0</td>\n",
       "      <td>Trip Completed</td>\n",
       "      <td>14-07-2016 06:15:32</td>\n",
       "      <td>14-07-2016 07:13:15</td>\n",
       "    </tr>\n",
       "    <tr>\n",
       "      <th>7</th>\n",
       "      <td>5510</td>\n",
       "      <td>Airport</td>\n",
       "      <td>1.0</td>\n",
       "      <td>Trip Completed</td>\n",
       "      <td>15-07-2016 05:11:52</td>\n",
       "      <td>15-07-2016 06:07:52</td>\n",
       "    </tr>\n",
       "    <tr>\n",
       "      <th>8</th>\n",
       "      <td>6248</td>\n",
       "      <td>City</td>\n",
       "      <td>1.0</td>\n",
       "      <td>Trip Completed</td>\n",
       "      <td>15-07-2016 17:57:27</td>\n",
       "      <td>15-07-2016 18:50:51</td>\n",
       "    </tr>\n",
       "    <tr>\n",
       "      <th>9</th>\n",
       "      <td>267</td>\n",
       "      <td>City</td>\n",
       "      <td>2.0</td>\n",
       "      <td>Trip Completed</td>\n",
       "      <td>11/7/2016 6:46</td>\n",
       "      <td>11/7/2016 7:25</td>\n",
       "    </tr>\n",
       "  </tbody>\n",
       "</table>\n",
       "</div>"
      ],
      "text/plain": [
       "   Request id Pickup point  Driver id          Status    Request timestamp  \\\n",
       "0         619      Airport        1.0  Trip Completed      11/7/2016 11:51   \n",
       "1         867      Airport        1.0  Trip Completed      11/7/2016 17:57   \n",
       "2        1807         City        1.0  Trip Completed       12/7/2016 9:17   \n",
       "3        2532      Airport        1.0  Trip Completed      12/7/2016 21:08   \n",
       "4        3112         City        1.0  Trip Completed  13-07-2016 08:33:16   \n",
       "5        3879      Airport        1.0  Trip Completed  13-07-2016 21:57:28   \n",
       "6        4270      Airport        1.0  Trip Completed  14-07-2016 06:15:32   \n",
       "7        5510      Airport        1.0  Trip Completed  15-07-2016 05:11:52   \n",
       "8        6248         City        1.0  Trip Completed  15-07-2016 17:57:27   \n",
       "9         267         City        2.0  Trip Completed       11/7/2016 6:46   \n",
       "\n",
       "        Drop timestamp  \n",
       "0      11/7/2016 13:00  \n",
       "1      11/7/2016 18:47  \n",
       "2       12/7/2016 9:58  \n",
       "3      12/7/2016 22:03  \n",
       "4  13-07-2016 09:25:47  \n",
       "5  13-07-2016 22:28:59  \n",
       "6  14-07-2016 07:13:15  \n",
       "7  15-07-2016 06:07:52  \n",
       "8  15-07-2016 18:50:51  \n",
       "9       11/7/2016 7:25  "
      ]
     },
     "execution_count": 2,
     "metadata": {},
     "output_type": "execute_result"
    }
   ],
   "source": [
    "#Reading the csv file.\n",
    "df = pd.read_csv('Uber Request Data.csv')\n",
    "df.head(10)                #The top 10 data entries."
   ]
  },
  {
   "cell_type": "markdown",
   "id": "73cf6e9b",
   "metadata": {},
   "source": [
    "Let's look at some of the basic information in the given dataset."
   ]
  },
  {
   "cell_type": "code",
   "execution_count": 3,
   "id": "b8a80ab3",
   "metadata": {},
   "outputs": [
    {
     "name": "stdout",
     "output_type": "stream",
     "text": [
      "<class 'pandas.core.frame.DataFrame'>\n",
      "RangeIndex: 6745 entries, 0 to 6744\n",
      "Data columns (total 6 columns):\n",
      " #   Column             Non-Null Count  Dtype  \n",
      "---  ------             --------------  -----  \n",
      " 0   Request id         6745 non-null   int64  \n",
      " 1   Pickup point       6745 non-null   object \n",
      " 2   Driver id          4095 non-null   float64\n",
      " 3   Status             6745 non-null   object \n",
      " 4   Request timestamp  6745 non-null   object \n",
      " 5   Drop timestamp     2831 non-null   object \n",
      "dtypes: float64(1), int64(1), object(4)\n",
      "memory usage: 316.3+ KB\n"
     ]
    },
    {
     "data": {
      "text/plain": [
       "(None, (6745, 6))"
      ]
     },
     "execution_count": 3,
     "metadata": {},
     "output_type": "execute_result"
    }
   ],
   "source": [
    "#Inspecting the dataframe.\n",
    "df.info(), df.shape"
   ]
  },
  {
   "cell_type": "code",
   "execution_count": 4,
   "id": "67d037bc",
   "metadata": {},
   "outputs": [
    {
     "data": {
      "text/html": [
       "<div>\n",
       "<style scoped>\n",
       "    .dataframe tbody tr th:only-of-type {\n",
       "        vertical-align: middle;\n",
       "    }\n",
       "\n",
       "    .dataframe tbody tr th {\n",
       "        vertical-align: top;\n",
       "    }\n",
       "\n",
       "    .dataframe thead th {\n",
       "        text-align: right;\n",
       "    }\n",
       "</style>\n",
       "<table border=\"1\" class=\"dataframe\">\n",
       "  <thead>\n",
       "    <tr style=\"text-align: right;\">\n",
       "      <th></th>\n",
       "      <th>Request id</th>\n",
       "      <th>Pickup point</th>\n",
       "      <th>Driver id</th>\n",
       "      <th>Status</th>\n",
       "      <th>Request timestamp</th>\n",
       "      <th>Drop timestamp</th>\n",
       "    </tr>\n",
       "  </thead>\n",
       "  <tbody>\n",
       "    <tr>\n",
       "      <th>count</th>\n",
       "      <td>6745.000000</td>\n",
       "      <td>6745</td>\n",
       "      <td>4095.000000</td>\n",
       "      <td>6745</td>\n",
       "      <td>6745</td>\n",
       "      <td>2831</td>\n",
       "    </tr>\n",
       "    <tr>\n",
       "      <th>unique</th>\n",
       "      <td>NaN</td>\n",
       "      <td>2</td>\n",
       "      <td>NaN</td>\n",
       "      <td>3</td>\n",
       "      <td>5618</td>\n",
       "      <td>2598</td>\n",
       "    </tr>\n",
       "    <tr>\n",
       "      <th>top</th>\n",
       "      <td>NaN</td>\n",
       "      <td>City</td>\n",
       "      <td>NaN</td>\n",
       "      <td>Trip Completed</td>\n",
       "      <td>11/7/2016 9:40</td>\n",
       "      <td>12/7/2016 21:04</td>\n",
       "    </tr>\n",
       "    <tr>\n",
       "      <th>freq</th>\n",
       "      <td>NaN</td>\n",
       "      <td>3507</td>\n",
       "      <td>NaN</td>\n",
       "      <td>2831</td>\n",
       "      <td>6</td>\n",
       "      <td>4</td>\n",
       "    </tr>\n",
       "    <tr>\n",
       "      <th>mean</th>\n",
       "      <td>3384.644922</td>\n",
       "      <td>NaN</td>\n",
       "      <td>149.501343</td>\n",
       "      <td>NaN</td>\n",
       "      <td>NaN</td>\n",
       "      <td>NaN</td>\n",
       "    </tr>\n",
       "    <tr>\n",
       "      <th>std</th>\n",
       "      <td>1955.099667</td>\n",
       "      <td>NaN</td>\n",
       "      <td>86.051994</td>\n",
       "      <td>NaN</td>\n",
       "      <td>NaN</td>\n",
       "      <td>NaN</td>\n",
       "    </tr>\n",
       "    <tr>\n",
       "      <th>min</th>\n",
       "      <td>1.000000</td>\n",
       "      <td>NaN</td>\n",
       "      <td>1.000000</td>\n",
       "      <td>NaN</td>\n",
       "      <td>NaN</td>\n",
       "      <td>NaN</td>\n",
       "    </tr>\n",
       "    <tr>\n",
       "      <th>25%</th>\n",
       "      <td>1691.000000</td>\n",
       "      <td>NaN</td>\n",
       "      <td>75.000000</td>\n",
       "      <td>NaN</td>\n",
       "      <td>NaN</td>\n",
       "      <td>NaN</td>\n",
       "    </tr>\n",
       "    <tr>\n",
       "      <th>50%</th>\n",
       "      <td>3387.000000</td>\n",
       "      <td>NaN</td>\n",
       "      <td>149.000000</td>\n",
       "      <td>NaN</td>\n",
       "      <td>NaN</td>\n",
       "      <td>NaN</td>\n",
       "    </tr>\n",
       "    <tr>\n",
       "      <th>75%</th>\n",
       "      <td>5080.000000</td>\n",
       "      <td>NaN</td>\n",
       "      <td>224.000000</td>\n",
       "      <td>NaN</td>\n",
       "      <td>NaN</td>\n",
       "      <td>NaN</td>\n",
       "    </tr>\n",
       "    <tr>\n",
       "      <th>max</th>\n",
       "      <td>6766.000000</td>\n",
       "      <td>NaN</td>\n",
       "      <td>300.000000</td>\n",
       "      <td>NaN</td>\n",
       "      <td>NaN</td>\n",
       "      <td>NaN</td>\n",
       "    </tr>\n",
       "  </tbody>\n",
       "</table>\n",
       "</div>"
      ],
      "text/plain": [
       "         Request id Pickup point    Driver id          Status  \\\n",
       "count   6745.000000         6745  4095.000000            6745   \n",
       "unique          NaN            2          NaN               3   \n",
       "top             NaN         City          NaN  Trip Completed   \n",
       "freq            NaN         3507          NaN            2831   \n",
       "mean    3384.644922          NaN   149.501343             NaN   \n",
       "std     1955.099667          NaN    86.051994             NaN   \n",
       "min        1.000000          NaN     1.000000             NaN   \n",
       "25%     1691.000000          NaN    75.000000             NaN   \n",
       "50%     3387.000000          NaN   149.000000             NaN   \n",
       "75%     5080.000000          NaN   224.000000             NaN   \n",
       "max     6766.000000          NaN   300.000000             NaN   \n",
       "\n",
       "       Request timestamp   Drop timestamp  \n",
       "count               6745             2831  \n",
       "unique              5618             2598  \n",
       "top       11/7/2016 9:40  12/7/2016 21:04  \n",
       "freq                   6                4  \n",
       "mean                 NaN              NaN  \n",
       "std                  NaN              NaN  \n",
       "min                  NaN              NaN  \n",
       "25%                  NaN              NaN  \n",
       "50%                  NaN              NaN  \n",
       "75%                  NaN              NaN  \n",
       "max                  NaN              NaN  "
      ]
     },
     "execution_count": 4,
     "metadata": {},
     "output_type": "execute_result"
    }
   ],
   "source": [
    "df.describe(include='all')"
   ]
  },
  {
   "cell_type": "markdown",
   "id": "c30339ae",
   "metadata": {},
   "source": [
    "So there are 6745 rows and 6 columns. All the columns have an independent combination of int64, object and float64 data types. The column names are Request id, Pickup point, Driver id, Status, Request timestamp and Drop timestamp. Also some interesting insights have been found like there's null values in the columns Driver id and Drop timestamp as both have values not equal to 6745. Let's confirm our thoery in the next step. Also there are two unique pickup points considered here (airport and city) then the status has been divided in 3 categories which we'll inspect ahead. So far that is the data at hand let's analyse it further."
   ]
  },
  {
   "cell_type": "code",
   "execution_count": 5,
   "id": "11b0d82a",
   "metadata": {},
   "outputs": [
    {
     "data": {
      "text/plain": [
       "Request id              0\n",
       "Pickup point            0\n",
       "Driver id            2650\n",
       "Status                  0\n",
       "Request timestamp       0\n",
       "Drop timestamp       3914\n",
       "dtype: int64"
      ]
     },
     "execution_count": 5,
     "metadata": {},
     "output_type": "execute_result"
    }
   ],
   "source": [
    "#Inspecting null values.\n",
    "df.isnull().sum()"
   ]
  },
  {
   "cell_type": "markdown",
   "id": "9affce70",
   "metadata": {},
   "source": [
    "Thus, there are null values in the columns Driver id and Drop timestamp. Thoery confirmed!"
   ]
  },
  {
   "cell_type": "code",
   "execution_count": 6,
   "id": "74781c8e",
   "metadata": {},
   "outputs": [
    {
     "data": {
      "text/plain": [
       "True"
      ]
     },
     "execution_count": 6,
     "metadata": {},
     "output_type": "execute_result"
    }
   ],
   "source": [
    "#Looking for duplicates.\n",
    "sum(df.duplicated())==0"
   ]
  },
  {
   "cell_type": "markdown",
   "id": "70afcdf6",
   "metadata": {},
   "source": [
    "OKAY; Zero duplicate rows."
   ]
  },
  {
   "cell_type": "code",
   "execution_count": 8,
   "id": "17972518",
   "metadata": {},
   "outputs": [],
   "source": [
    "#Converting Request timestamp and Drop timestamp to datetime object.\n",
    "df['Request timestamp'] = pd.to_datetime(df['Request timestamp'])\n",
    "df['Drop timestamp'] = pd.to_datetime(df['Drop timestamp'])"
   ]
  },
  {
   "cell_type": "code",
   "execution_count": 9,
   "id": "03c71ba9",
   "metadata": {},
   "outputs": [
    {
     "data": {
      "text/html": [
       "<div>\n",
       "<style scoped>\n",
       "    .dataframe tbody tr th:only-of-type {\n",
       "        vertical-align: middle;\n",
       "    }\n",
       "\n",
       "    .dataframe tbody tr th {\n",
       "        vertical-align: top;\n",
       "    }\n",
       "\n",
       "    .dataframe thead th {\n",
       "        text-align: right;\n",
       "    }\n",
       "</style>\n",
       "<table border=\"1\" class=\"dataframe\">\n",
       "  <thead>\n",
       "    <tr style=\"text-align: right;\">\n",
       "      <th></th>\n",
       "      <th>Request id</th>\n",
       "      <th>Pickup point</th>\n",
       "      <th>Driver id</th>\n",
       "      <th>Status</th>\n",
       "      <th>Request timestamp</th>\n",
       "      <th>Drop timestamp</th>\n",
       "    </tr>\n",
       "  </thead>\n",
       "  <tbody>\n",
       "    <tr>\n",
       "      <th>0</th>\n",
       "      <td>619</td>\n",
       "      <td>Airport</td>\n",
       "      <td>1.0</td>\n",
       "      <td>Trip Completed</td>\n",
       "      <td>2016-11-07 11:51:00</td>\n",
       "      <td>2016-11-07 13:00:00</td>\n",
       "    </tr>\n",
       "    <tr>\n",
       "      <th>1</th>\n",
       "      <td>867</td>\n",
       "      <td>Airport</td>\n",
       "      <td>1.0</td>\n",
       "      <td>Trip Completed</td>\n",
       "      <td>2016-11-07 17:57:00</td>\n",
       "      <td>2016-11-07 18:47:00</td>\n",
       "    </tr>\n",
       "    <tr>\n",
       "      <th>2</th>\n",
       "      <td>1807</td>\n",
       "      <td>City</td>\n",
       "      <td>1.0</td>\n",
       "      <td>Trip Completed</td>\n",
       "      <td>2016-12-07 09:17:00</td>\n",
       "      <td>2016-12-07 09:58:00</td>\n",
       "    </tr>\n",
       "    <tr>\n",
       "      <th>3</th>\n",
       "      <td>2532</td>\n",
       "      <td>Airport</td>\n",
       "      <td>1.0</td>\n",
       "      <td>Trip Completed</td>\n",
       "      <td>2016-12-07 21:08:00</td>\n",
       "      <td>2016-12-07 22:03:00</td>\n",
       "    </tr>\n",
       "    <tr>\n",
       "      <th>4</th>\n",
       "      <td>3112</td>\n",
       "      <td>City</td>\n",
       "      <td>1.0</td>\n",
       "      <td>Trip Completed</td>\n",
       "      <td>2016-07-13 08:33:16</td>\n",
       "      <td>2016-07-13 09:25:47</td>\n",
       "    </tr>\n",
       "    <tr>\n",
       "      <th>5</th>\n",
       "      <td>3879</td>\n",
       "      <td>Airport</td>\n",
       "      <td>1.0</td>\n",
       "      <td>Trip Completed</td>\n",
       "      <td>2016-07-13 21:57:28</td>\n",
       "      <td>2016-07-13 22:28:59</td>\n",
       "    </tr>\n",
       "    <tr>\n",
       "      <th>6</th>\n",
       "      <td>4270</td>\n",
       "      <td>Airport</td>\n",
       "      <td>1.0</td>\n",
       "      <td>Trip Completed</td>\n",
       "      <td>2016-07-14 06:15:32</td>\n",
       "      <td>2016-07-14 07:13:15</td>\n",
       "    </tr>\n",
       "    <tr>\n",
       "      <th>7</th>\n",
       "      <td>5510</td>\n",
       "      <td>Airport</td>\n",
       "      <td>1.0</td>\n",
       "      <td>Trip Completed</td>\n",
       "      <td>2016-07-15 05:11:52</td>\n",
       "      <td>2016-07-15 06:07:52</td>\n",
       "    </tr>\n",
       "    <tr>\n",
       "      <th>8</th>\n",
       "      <td>6248</td>\n",
       "      <td>City</td>\n",
       "      <td>1.0</td>\n",
       "      <td>Trip Completed</td>\n",
       "      <td>2016-07-15 17:57:27</td>\n",
       "      <td>2016-07-15 18:50:51</td>\n",
       "    </tr>\n",
       "    <tr>\n",
       "      <th>9</th>\n",
       "      <td>267</td>\n",
       "      <td>City</td>\n",
       "      <td>2.0</td>\n",
       "      <td>Trip Completed</td>\n",
       "      <td>2016-11-07 06:46:00</td>\n",
       "      <td>2016-11-07 07:25:00</td>\n",
       "    </tr>\n",
       "  </tbody>\n",
       "</table>\n",
       "</div>"
      ],
      "text/plain": [
       "   Request id Pickup point  Driver id          Status   Request timestamp  \\\n",
       "0         619      Airport        1.0  Trip Completed 2016-11-07 11:51:00   \n",
       "1         867      Airport        1.0  Trip Completed 2016-11-07 17:57:00   \n",
       "2        1807         City        1.0  Trip Completed 2016-12-07 09:17:00   \n",
       "3        2532      Airport        1.0  Trip Completed 2016-12-07 21:08:00   \n",
       "4        3112         City        1.0  Trip Completed 2016-07-13 08:33:16   \n",
       "5        3879      Airport        1.0  Trip Completed 2016-07-13 21:57:28   \n",
       "6        4270      Airport        1.0  Trip Completed 2016-07-14 06:15:32   \n",
       "7        5510      Airport        1.0  Trip Completed 2016-07-15 05:11:52   \n",
       "8        6248         City        1.0  Trip Completed 2016-07-15 17:57:27   \n",
       "9         267         City        2.0  Trip Completed 2016-11-07 06:46:00   \n",
       "\n",
       "       Drop timestamp  \n",
       "0 2016-11-07 13:00:00  \n",
       "1 2016-11-07 18:47:00  \n",
       "2 2016-12-07 09:58:00  \n",
       "3 2016-12-07 22:03:00  \n",
       "4 2016-07-13 09:25:47  \n",
       "5 2016-07-13 22:28:59  \n",
       "6 2016-07-14 07:13:15  \n",
       "7 2016-07-15 06:07:52  \n",
       "8 2016-07-15 18:50:51  \n",
       "9 2016-11-07 07:25:00  "
      ]
     },
     "execution_count": 9,
     "metadata": {},
     "output_type": "execute_result"
    }
   ],
   "source": [
    "df.head(10)"
   ]
  },
  {
   "cell_type": "markdown",
   "id": "a83b80d6",
   "metadata": {},
   "source": [
    "Now that seems more readable."
   ]
  },
  {
   "cell_type": "code",
   "execution_count": 10,
   "id": "9e805985",
   "metadata": {},
   "outputs": [
    {
     "data": {
      "text/html": [
       "<div>\n",
       "<style scoped>\n",
       "    .dataframe tbody tr th:only-of-type {\n",
       "        vertical-align: middle;\n",
       "    }\n",
       "\n",
       "    .dataframe tbody tr th {\n",
       "        vertical-align: top;\n",
       "    }\n",
       "\n",
       "    .dataframe thead th {\n",
       "        text-align: right;\n",
       "    }\n",
       "</style>\n",
       "<table border=\"1\" class=\"dataframe\">\n",
       "  <thead>\n",
       "    <tr style=\"text-align: right;\">\n",
       "      <th></th>\n",
       "      <th>Request id</th>\n",
       "      <th>Pickup point</th>\n",
       "      <th>Driver id</th>\n",
       "      <th>Status</th>\n",
       "      <th>Request timestamp</th>\n",
       "      <th>Drop timestamp</th>\n",
       "      <th>Request date</th>\n",
       "      <th>Request hour</th>\n",
       "      <th>Request time</th>\n",
       "    </tr>\n",
       "  </thead>\n",
       "  <tbody>\n",
       "    <tr>\n",
       "      <th>0</th>\n",
       "      <td>619</td>\n",
       "      <td>Airport</td>\n",
       "      <td>1.0</td>\n",
       "      <td>Trip Completed</td>\n",
       "      <td>2016-11-07 11:51:00</td>\n",
       "      <td>2016-11-07 13:00:00</td>\n",
       "      <td>2016-11-07</td>\n",
       "      <td>11</td>\n",
       "      <td>11:51:00</td>\n",
       "    </tr>\n",
       "    <tr>\n",
       "      <th>1</th>\n",
       "      <td>867</td>\n",
       "      <td>Airport</td>\n",
       "      <td>1.0</td>\n",
       "      <td>Trip Completed</td>\n",
       "      <td>2016-11-07 17:57:00</td>\n",
       "      <td>2016-11-07 18:47:00</td>\n",
       "      <td>2016-11-07</td>\n",
       "      <td>17</td>\n",
       "      <td>17:57:00</td>\n",
       "    </tr>\n",
       "    <tr>\n",
       "      <th>2</th>\n",
       "      <td>1807</td>\n",
       "      <td>City</td>\n",
       "      <td>1.0</td>\n",
       "      <td>Trip Completed</td>\n",
       "      <td>2016-12-07 09:17:00</td>\n",
       "      <td>2016-12-07 09:58:00</td>\n",
       "      <td>2016-12-07</td>\n",
       "      <td>9</td>\n",
       "      <td>09:17:00</td>\n",
       "    </tr>\n",
       "    <tr>\n",
       "      <th>3</th>\n",
       "      <td>2532</td>\n",
       "      <td>Airport</td>\n",
       "      <td>1.0</td>\n",
       "      <td>Trip Completed</td>\n",
       "      <td>2016-12-07 21:08:00</td>\n",
       "      <td>2016-12-07 22:03:00</td>\n",
       "      <td>2016-12-07</td>\n",
       "      <td>21</td>\n",
       "      <td>21:08:00</td>\n",
       "    </tr>\n",
       "    <tr>\n",
       "      <th>4</th>\n",
       "      <td>3112</td>\n",
       "      <td>City</td>\n",
       "      <td>1.0</td>\n",
       "      <td>Trip Completed</td>\n",
       "      <td>2016-07-13 08:33:16</td>\n",
       "      <td>2016-07-13 09:25:47</td>\n",
       "      <td>2016-07-13</td>\n",
       "      <td>8</td>\n",
       "      <td>08:33:16</td>\n",
       "    </tr>\n",
       "  </tbody>\n",
       "</table>\n",
       "</div>"
      ],
      "text/plain": [
       "   Request id Pickup point  Driver id          Status   Request timestamp  \\\n",
       "0         619      Airport        1.0  Trip Completed 2016-11-07 11:51:00   \n",
       "1         867      Airport        1.0  Trip Completed 2016-11-07 17:57:00   \n",
       "2        1807         City        1.0  Trip Completed 2016-12-07 09:17:00   \n",
       "3        2532      Airport        1.0  Trip Completed 2016-12-07 21:08:00   \n",
       "4        3112         City        1.0  Trip Completed 2016-07-13 08:33:16   \n",
       "\n",
       "       Drop timestamp Request date  Request hour Request time  \n",
       "0 2016-11-07 13:00:00   2016-11-07            11     11:51:00  \n",
       "1 2016-11-07 18:47:00   2016-11-07            17     17:57:00  \n",
       "2 2016-12-07 09:58:00   2016-12-07             9     09:17:00  \n",
       "3 2016-12-07 22:03:00   2016-12-07            21     21:08:00  \n",
       "4 2016-07-13 09:25:47   2016-07-13             8     08:33:16  "
      ]
     },
     "execution_count": 10,
     "metadata": {},
     "output_type": "execute_result"
    }
   ],
   "source": [
    "#Extracting date, hour and time from Request timestamp.\n",
    "df['Request date'] = df['Request timestamp'].dt.date\n",
    "df['Request hour'] = df['Request timestamp'].dt.hour\n",
    "df['Request time'] = df['Request timestamp'].dt.time\n",
    "df.head()"
   ]
  },
  {
   "cell_type": "code",
   "execution_count": 11,
   "id": "b1976876",
   "metadata": {},
   "outputs": [
    {
     "data": {
      "text/html": [
       "<div>\n",
       "<style scoped>\n",
       "    .dataframe tbody tr th:only-of-type {\n",
       "        vertical-align: middle;\n",
       "    }\n",
       "\n",
       "    .dataframe tbody tr th {\n",
       "        vertical-align: top;\n",
       "    }\n",
       "\n",
       "    .dataframe thead th {\n",
       "        text-align: right;\n",
       "    }\n",
       "</style>\n",
       "<table border=\"1\" class=\"dataframe\">\n",
       "  <thead>\n",
       "    <tr style=\"text-align: right;\">\n",
       "      <th></th>\n",
       "      <th>Request id</th>\n",
       "      <th>Pickup point</th>\n",
       "      <th>Driver id</th>\n",
       "      <th>Status</th>\n",
       "      <th>Request timestamp</th>\n",
       "      <th>Drop timestamp</th>\n",
       "      <th>Request date</th>\n",
       "      <th>Request hour</th>\n",
       "      <th>Request time</th>\n",
       "      <th>Drop date</th>\n",
       "      <th>Drop hour</th>\n",
       "      <th>Drop time</th>\n",
       "    </tr>\n",
       "  </thead>\n",
       "  <tbody>\n",
       "    <tr>\n",
       "      <th>0</th>\n",
       "      <td>619</td>\n",
       "      <td>Airport</td>\n",
       "      <td>1.0</td>\n",
       "      <td>Trip Completed</td>\n",
       "      <td>2016-11-07 11:51:00</td>\n",
       "      <td>2016-11-07 13:00:00</td>\n",
       "      <td>2016-11-07</td>\n",
       "      <td>11</td>\n",
       "      <td>11:51:00</td>\n",
       "      <td>2016-11-07</td>\n",
       "      <td>13.0</td>\n",
       "      <td>13:00:00</td>\n",
       "    </tr>\n",
       "    <tr>\n",
       "      <th>1</th>\n",
       "      <td>867</td>\n",
       "      <td>Airport</td>\n",
       "      <td>1.0</td>\n",
       "      <td>Trip Completed</td>\n",
       "      <td>2016-11-07 17:57:00</td>\n",
       "      <td>2016-11-07 18:47:00</td>\n",
       "      <td>2016-11-07</td>\n",
       "      <td>17</td>\n",
       "      <td>17:57:00</td>\n",
       "      <td>2016-11-07</td>\n",
       "      <td>18.0</td>\n",
       "      <td>18:47:00</td>\n",
       "    </tr>\n",
       "    <tr>\n",
       "      <th>2</th>\n",
       "      <td>1807</td>\n",
       "      <td>City</td>\n",
       "      <td>1.0</td>\n",
       "      <td>Trip Completed</td>\n",
       "      <td>2016-12-07 09:17:00</td>\n",
       "      <td>2016-12-07 09:58:00</td>\n",
       "      <td>2016-12-07</td>\n",
       "      <td>9</td>\n",
       "      <td>09:17:00</td>\n",
       "      <td>2016-12-07</td>\n",
       "      <td>9.0</td>\n",
       "      <td>09:58:00</td>\n",
       "    </tr>\n",
       "    <tr>\n",
       "      <th>3</th>\n",
       "      <td>2532</td>\n",
       "      <td>Airport</td>\n",
       "      <td>1.0</td>\n",
       "      <td>Trip Completed</td>\n",
       "      <td>2016-12-07 21:08:00</td>\n",
       "      <td>2016-12-07 22:03:00</td>\n",
       "      <td>2016-12-07</td>\n",
       "      <td>21</td>\n",
       "      <td>21:08:00</td>\n",
       "      <td>2016-12-07</td>\n",
       "      <td>22.0</td>\n",
       "      <td>22:03:00</td>\n",
       "    </tr>\n",
       "    <tr>\n",
       "      <th>4</th>\n",
       "      <td>3112</td>\n",
       "      <td>City</td>\n",
       "      <td>1.0</td>\n",
       "      <td>Trip Completed</td>\n",
       "      <td>2016-07-13 08:33:16</td>\n",
       "      <td>2016-07-13 09:25:47</td>\n",
       "      <td>2016-07-13</td>\n",
       "      <td>8</td>\n",
       "      <td>08:33:16</td>\n",
       "      <td>2016-07-13</td>\n",
       "      <td>9.0</td>\n",
       "      <td>09:25:47</td>\n",
       "    </tr>\n",
       "  </tbody>\n",
       "</table>\n",
       "</div>"
      ],
      "text/plain": [
       "   Request id Pickup point  Driver id          Status   Request timestamp  \\\n",
       "0         619      Airport        1.0  Trip Completed 2016-11-07 11:51:00   \n",
       "1         867      Airport        1.0  Trip Completed 2016-11-07 17:57:00   \n",
       "2        1807         City        1.0  Trip Completed 2016-12-07 09:17:00   \n",
       "3        2532      Airport        1.0  Trip Completed 2016-12-07 21:08:00   \n",
       "4        3112         City        1.0  Trip Completed 2016-07-13 08:33:16   \n",
       "\n",
       "       Drop timestamp Request date  Request hour Request time   Drop date  \\\n",
       "0 2016-11-07 13:00:00   2016-11-07            11     11:51:00  2016-11-07   \n",
       "1 2016-11-07 18:47:00   2016-11-07            17     17:57:00  2016-11-07   \n",
       "2 2016-12-07 09:58:00   2016-12-07             9     09:17:00  2016-12-07   \n",
       "3 2016-12-07 22:03:00   2016-12-07            21     21:08:00  2016-12-07   \n",
       "4 2016-07-13 09:25:47   2016-07-13             8     08:33:16  2016-07-13   \n",
       "\n",
       "   Drop hour Drop time  \n",
       "0       13.0  13:00:00  \n",
       "1       18.0  18:47:00  \n",
       "2        9.0  09:58:00  \n",
       "3       22.0  22:03:00  \n",
       "4        9.0  09:25:47  "
      ]
     },
     "execution_count": 11,
     "metadata": {},
     "output_type": "execute_result"
    }
   ],
   "source": [
    "#Extracting date, hour and time from Drop timestamp.\n",
    "df['Drop date'] = df['Drop timestamp'].dt.date\n",
    "df['Drop hour'] = df['Drop timestamp'].dt.hour\n",
    "df['Drop time'] = df['Drop timestamp'].dt.time\n",
    "df.head()"
   ]
  },
  {
   "cell_type": "code",
   "execution_count": 12,
   "id": "79415118",
   "metadata": {},
   "outputs": [],
   "source": [
    "#Creating a function of timeslots for Request hour.\n",
    "def timeslot(x):\n",
    "    if x<4:\n",
    "        return 'Late night'\n",
    "    elif 4<x<=7:\n",
    "        return 'Early morning'\n",
    "    elif 7<x<=12:\n",
    "        return 'Morning'\n",
    "    elif 12<x<=16:\n",
    "        return 'Afternoon'\n",
    "    elif 16<x<=18:\n",
    "        return 'Evening'\n",
    "    elif 18<x<=20:\n",
    "        return 'Late evening'\n",
    "    elif 20<x<=23:\n",
    "        return 'Night'\n",
    "    else:\n",
    "        return 'Midnight'\n",
    "#Creating the column of timeslot\n",
    "df['Time slot'] = df['Request hour'].apply(lambda x: timeslot(x))"
   ]
  },
  {
   "cell_type": "code",
   "execution_count": 13,
   "id": "906c1f5a",
   "metadata": {},
   "outputs": [
    {
     "data": {
      "text/html": [
       "<div>\n",
       "<style scoped>\n",
       "    .dataframe tbody tr th:only-of-type {\n",
       "        vertical-align: middle;\n",
       "    }\n",
       "\n",
       "    .dataframe tbody tr th {\n",
       "        vertical-align: top;\n",
       "    }\n",
       "\n",
       "    .dataframe thead th {\n",
       "        text-align: right;\n",
       "    }\n",
       "</style>\n",
       "<table border=\"1\" class=\"dataframe\">\n",
       "  <thead>\n",
       "    <tr style=\"text-align: right;\">\n",
       "      <th></th>\n",
       "      <th>Request id</th>\n",
       "      <th>Pickup point</th>\n",
       "      <th>Driver id</th>\n",
       "      <th>Status</th>\n",
       "      <th>Request timestamp</th>\n",
       "      <th>Drop timestamp</th>\n",
       "      <th>Request date</th>\n",
       "      <th>Request hour</th>\n",
       "      <th>Request time</th>\n",
       "      <th>Drop date</th>\n",
       "      <th>Drop hour</th>\n",
       "      <th>Drop time</th>\n",
       "      <th>Time slot</th>\n",
       "      <th>No of Requests</th>\n",
       "    </tr>\n",
       "  </thead>\n",
       "  <tbody>\n",
       "    <tr>\n",
       "      <th>0</th>\n",
       "      <td>619</td>\n",
       "      <td>Airport</td>\n",
       "      <td>1.0</td>\n",
       "      <td>Trip Completed</td>\n",
       "      <td>2016-11-07 11:51:00</td>\n",
       "      <td>2016-11-07 13:00:00</td>\n",
       "      <td>2016-11-07</td>\n",
       "      <td>11</td>\n",
       "      <td>11:51:00</td>\n",
       "      <td>2016-11-07</td>\n",
       "      <td>13.0</td>\n",
       "      <td>13:00:00</td>\n",
       "      <td>Morning</td>\n",
       "      <td>1</td>\n",
       "    </tr>\n",
       "    <tr>\n",
       "      <th>1</th>\n",
       "      <td>867</td>\n",
       "      <td>Airport</td>\n",
       "      <td>1.0</td>\n",
       "      <td>Trip Completed</td>\n",
       "      <td>2016-11-07 17:57:00</td>\n",
       "      <td>2016-11-07 18:47:00</td>\n",
       "      <td>2016-11-07</td>\n",
       "      <td>17</td>\n",
       "      <td>17:57:00</td>\n",
       "      <td>2016-11-07</td>\n",
       "      <td>18.0</td>\n",
       "      <td>18:47:00</td>\n",
       "      <td>Evening</td>\n",
       "      <td>1</td>\n",
       "    </tr>\n",
       "    <tr>\n",
       "      <th>2</th>\n",
       "      <td>1807</td>\n",
       "      <td>City</td>\n",
       "      <td>1.0</td>\n",
       "      <td>Trip Completed</td>\n",
       "      <td>2016-12-07 09:17:00</td>\n",
       "      <td>2016-12-07 09:58:00</td>\n",
       "      <td>2016-12-07</td>\n",
       "      <td>9</td>\n",
       "      <td>09:17:00</td>\n",
       "      <td>2016-12-07</td>\n",
       "      <td>9.0</td>\n",
       "      <td>09:58:00</td>\n",
       "      <td>Morning</td>\n",
       "      <td>1</td>\n",
       "    </tr>\n",
       "    <tr>\n",
       "      <th>3</th>\n",
       "      <td>2532</td>\n",
       "      <td>Airport</td>\n",
       "      <td>1.0</td>\n",
       "      <td>Trip Completed</td>\n",
       "      <td>2016-12-07 21:08:00</td>\n",
       "      <td>2016-12-07 22:03:00</td>\n",
       "      <td>2016-12-07</td>\n",
       "      <td>21</td>\n",
       "      <td>21:08:00</td>\n",
       "      <td>2016-12-07</td>\n",
       "      <td>22.0</td>\n",
       "      <td>22:03:00</td>\n",
       "      <td>Night</td>\n",
       "      <td>1</td>\n",
       "    </tr>\n",
       "    <tr>\n",
       "      <th>4</th>\n",
       "      <td>3112</td>\n",
       "      <td>City</td>\n",
       "      <td>1.0</td>\n",
       "      <td>Trip Completed</td>\n",
       "      <td>2016-07-13 08:33:16</td>\n",
       "      <td>2016-07-13 09:25:47</td>\n",
       "      <td>2016-07-13</td>\n",
       "      <td>8</td>\n",
       "      <td>08:33:16</td>\n",
       "      <td>2016-07-13</td>\n",
       "      <td>9.0</td>\n",
       "      <td>09:25:47</td>\n",
       "      <td>Morning</td>\n",
       "      <td>1</td>\n",
       "    </tr>\n",
       "  </tbody>\n",
       "</table>\n",
       "</div>"
      ],
      "text/plain": [
       "   Request id Pickup point  Driver id          Status   Request timestamp  \\\n",
       "0         619      Airport        1.0  Trip Completed 2016-11-07 11:51:00   \n",
       "1         867      Airport        1.0  Trip Completed 2016-11-07 17:57:00   \n",
       "2        1807         City        1.0  Trip Completed 2016-12-07 09:17:00   \n",
       "3        2532      Airport        1.0  Trip Completed 2016-12-07 21:08:00   \n",
       "4        3112         City        1.0  Trip Completed 2016-07-13 08:33:16   \n",
       "\n",
       "       Drop timestamp Request date  Request hour Request time   Drop date  \\\n",
       "0 2016-11-07 13:00:00   2016-11-07            11     11:51:00  2016-11-07   \n",
       "1 2016-11-07 18:47:00   2016-11-07            17     17:57:00  2016-11-07   \n",
       "2 2016-12-07 09:58:00   2016-12-07             9     09:17:00  2016-12-07   \n",
       "3 2016-12-07 22:03:00   2016-12-07            21     21:08:00  2016-12-07   \n",
       "4 2016-07-13 09:25:47   2016-07-13             8     08:33:16  2016-07-13   \n",
       "\n",
       "   Drop hour Drop time Time slot  No of Requests  \n",
       "0       13.0  13:00:00   Morning               1  \n",
       "1       18.0  18:47:00   Evening               1  \n",
       "2        9.0  09:58:00   Morning               1  \n",
       "3       22.0  22:03:00     Night               1  \n",
       "4        9.0  09:25:47   Morning               1  "
      ]
     },
     "execution_count": 13,
     "metadata": {},
     "output_type": "execute_result"
    }
   ],
   "source": [
    "#Also creating the column of Number of Requests which will be one obviously.\n",
    "df['No of Requests'] = 1\n",
    "df.head()"
   ]
  },
  {
   "cell_type": "markdown",
   "id": "c2fcd65a",
   "metadata": {},
   "source": [
    "Okay now we have sufficient data extracted from the given data sets. Let's start with some EDA."
   ]
  },
  {
   "cell_type": "code",
   "execution_count": 14,
   "id": "9d9b9519",
   "metadata": {},
   "outputs": [
    {
     "data": {
      "text/html": [
       "<div>\n",
       "<style scoped>\n",
       "    .dataframe tbody tr th:only-of-type {\n",
       "        vertical-align: middle;\n",
       "    }\n",
       "\n",
       "    .dataframe tbody tr th {\n",
       "        vertical-align: top;\n",
       "    }\n",
       "\n",
       "    .dataframe thead th {\n",
       "        text-align: right;\n",
       "    }\n",
       "</style>\n",
       "<table border=\"1\" class=\"dataframe\">\n",
       "  <thead>\n",
       "    <tr style=\"text-align: right;\">\n",
       "      <th></th>\n",
       "      <th>Request id</th>\n",
       "      <th>Pickup point</th>\n",
       "      <th>Driver id</th>\n",
       "      <th>Request timestamp</th>\n",
       "      <th>Drop timestamp</th>\n",
       "      <th>Request date</th>\n",
       "      <th>Request hour</th>\n",
       "      <th>Request time</th>\n",
       "      <th>Drop date</th>\n",
       "      <th>Drop hour</th>\n",
       "      <th>Drop time</th>\n",
       "      <th>Time slot</th>\n",
       "      <th>No of Requests</th>\n",
       "    </tr>\n",
       "    <tr>\n",
       "      <th>Status</th>\n",
       "      <th></th>\n",
       "      <th></th>\n",
       "      <th></th>\n",
       "      <th></th>\n",
       "      <th></th>\n",
       "      <th></th>\n",
       "      <th></th>\n",
       "      <th></th>\n",
       "      <th></th>\n",
       "      <th></th>\n",
       "      <th></th>\n",
       "      <th></th>\n",
       "      <th></th>\n",
       "    </tr>\n",
       "  </thead>\n",
       "  <tbody>\n",
       "    <tr>\n",
       "      <th>Cancelled</th>\n",
       "      <td>1264</td>\n",
       "      <td>1264</td>\n",
       "      <td>1264</td>\n",
       "      <td>1264</td>\n",
       "      <td>0</td>\n",
       "      <td>1264</td>\n",
       "      <td>1264</td>\n",
       "      <td>1264</td>\n",
       "      <td>0</td>\n",
       "      <td>0</td>\n",
       "      <td>0</td>\n",
       "      <td>1264</td>\n",
       "      <td>1264</td>\n",
       "    </tr>\n",
       "    <tr>\n",
       "      <th>No Cars Available</th>\n",
       "      <td>2650</td>\n",
       "      <td>2650</td>\n",
       "      <td>0</td>\n",
       "      <td>2650</td>\n",
       "      <td>0</td>\n",
       "      <td>2650</td>\n",
       "      <td>2650</td>\n",
       "      <td>2650</td>\n",
       "      <td>0</td>\n",
       "      <td>0</td>\n",
       "      <td>0</td>\n",
       "      <td>2650</td>\n",
       "      <td>2650</td>\n",
       "    </tr>\n",
       "  </tbody>\n",
       "</table>\n",
       "</div>"
      ],
      "text/plain": [
       "                   Request id  Pickup point  Driver id  Request timestamp  \\\n",
       "Status                                                                      \n",
       "Cancelled                1264          1264       1264               1264   \n",
       "No Cars Available        2650          2650          0               2650   \n",
       "\n",
       "                   Drop timestamp  Request date  Request hour  Request time  \\\n",
       "Status                                                                        \n",
       "Cancelled                       0          1264          1264          1264   \n",
       "No Cars Available               0          2650          2650          2650   \n",
       "\n",
       "                   Drop date  Drop hour  Drop time  Time slot  No of Requests  \n",
       "Status                                                                         \n",
       "Cancelled                  0          0          0       1264            1264  \n",
       "No Cars Available          0          0          0       2650            2650  "
      ]
     },
     "execution_count": 14,
     "metadata": {},
     "output_type": "execute_result"
    }
   ],
   "source": [
    "#Checking the number of failed requests.\n",
    "df[(df['Drop timestamp'].isnull())].groupby('Status').count()"
   ]
  },
  {
   "cell_type": "markdown",
   "id": "291ba68e",
   "metadata": {},
   "source": [
    "Thus, 1264 times requests were cancelled while 2650 times cars were not available. This shows that driver cancellation and non-availability of cars are the main problems leading to loss of potential revenue."
   ]
  },
  {
   "cell_type": "code",
   "execution_count": 15,
   "id": "9db422e4",
   "metadata": {},
   "outputs": [
    {
     "data": {
      "image/png": "[encoded data removed]",
      "text/plain": [
       "<Figure size 432x288 with 1 Axes>"
      ]
     },
     "metadata": {
      "needs_background": "light"
     },
     "output_type": "display_data"
    }
   ],
   "source": [
    "# Creating a plot to check the trip status by comparing three columns namely Trip completed, Cancelled and No cars available.\n",
    "plt.title('Trip Status', fontsize=15)\n",
    "plot = sns.countplot(df['Status'], palette='dark', data=df)\n",
    "plt.ylabel('Count', fontsize=12)\n",
    "for x in plot.patches:\n",
    "    plot.annotate(format(x.get_height()),(x.get_x()+x.get_width()/2, x.get_height()), ha='center', va='bottom')\n",
    "plt.show()"
   ]
  },
  {
   "cell_type": "markdown",
   "id": "d31e6fee",
   "metadata": {},
   "source": [
    "We can observe from the given data We can observe from the given data that only half of the requests from city and airport are completed.that only half of the requests from city and airport are completed."
   ]
  },
  {
   "cell_type": "code",
   "execution_count": 17,
   "id": "60374ade",
   "metadata": {},
   "outputs": [
    {
     "data": {
      "image/png": "[encoded data removed]",
      "text/plain": [
       "<Figure size 360x360 with 1 Axes>"
      ]
     },
     "metadata": {
      "needs_background": "light"
     },
     "output_type": "display_data"
    }
   ],
   "source": [
    "#Creating a plot to check the frequency of failed requests and trying to find the reason behuind it statistically.\n",
    "requests_failed = df[df.Status != \"Trip Completed\"]  \n",
    "plt.figure(figsize=(5,5))\n",
    "plt.title('Frequency of Requests Failed',fontsize=15)\n",
    "a=sns.countplot(x='Status',palette='Reds', data=requests_failed)\n",
    "plt.xlabel('Status', fontsize=12)\n",
    "plt.ylabel('Count', fontsize=12)\n",
    "for x in a.patches:\n",
    "    a.annotate(format(x.get_height()),(x.get_x() + x.get_width() / 2, x.get_height()), ha = 'center', va = 'bottom')\n",
    "plt.show() "
   ]
  },
  {
   "cell_type": "markdown",
   "id": "c1133843",
   "metadata": {},
   "source": [
    "Thus, the frequency of no cars available (2650) is more than the cancellation of requests (1264)."
   ]
  },
  {
   "cell_type": "markdown",
   "id": "51c31a64",
   "metadata": {},
   "source": [
    "Hmm, interesting! Now that we know that the requests are being failed let's find out the frequency from where is it being failed, i.e. either from the airport or the city."
   ]
  },
  {
   "cell_type": "code",
   "execution_count": 18,
   "id": "dabc73ca",
   "metadata": {},
   "outputs": [
    {
     "data": {
      "image/png": "[encoded data removed]",
      "text/plain": [
       "<Figure size 504x432 with 1 Axes>"
      ]
     },
     "metadata": {
      "needs_background": "light"
     },
     "output_type": "display_data"
    }
   ],
   "source": [
    "#Creating a plot for the failed requests from the pickup points of airport and the city.\n",
    "plt.figure(figsize=(7,6))\n",
    "plt.title('Failed Requests from Pickup Points',fontsize=15)\n",
    "fail_req_pickup = sns.countplot(x='Pickup point',palette='hls', data=requests_failed)  \n",
    "plt.xlabel('Pickup Point', fontsize=12)\n",
    "plt.ylabel('Count', fontsize=12)\n",
    "for x in fail_req_pickup.patches:\n",
    "    fail_req_pickup.annotate(format(x.get_height()),(x.get_x() + x.get_width() / 2, x.get_height()), ha = 'center', va = 'bottom')\n",
    "plt.show()"
   ]
  },
  {
   "cell_type": "markdown",
   "id": "2ed4b0a8",
   "metadata": {},
   "source": [
    "Okay so the plot suggets that the majority of requests are failed from the city which makes sense again as the drivers have to travel a long distance to reach the airport and they may or may not get a fare while returning."
   ]
  },
  {
   "cell_type": "code",
   "execution_count": 19,
   "id": "45897b1c",
   "metadata": {},
   "outputs": [
    {
     "data": {
      "image/png": "[encoded data removed]",
      "text/plain": [
       "<Figure size 432x288 with 1 Axes>"
      ]
     },
     "metadata": {
      "needs_background": "light"
     },
     "output_type": "display_data"
    }
   ],
   "source": [
    "#Creating a plot to compare the stats of trip completed, cancelled and no cars available columns for airport and city.\n",
    "plt.title(\"Pickup point with status\")\n",
    "sns.countplot(x=df['Pickup point'],hue ='Status',data = df)\n",
    "plt.show()"
   ]
  },
  {
   "cell_type": "markdown",
   "id": "e1bac742",
   "metadata": {},
   "source": [
    "Okay, now we're getting more insights from the data solidifying our previous theory that majority of requests failed from the city. But there's also something interesting here that cars are not available at the airport more often as comapred to the city."
   ]
  },
  {
   "cell_type": "code",
   "execution_count": 20,
   "id": "e15e1564",
   "metadata": {},
   "outputs": [
    {
     "data": {
      "image/png": "[encoded data removed]",
      "text/plain": [
       "<Figure size 1008x432 with 1 Axes>"
      ]
     },
     "metadata": {
      "needs_background": "light"
     },
     "output_type": "display_data"
    }
   ],
   "source": [
    "#Creating a plot of trip status according to the time of the day.\n",
    "plt.figure(figsize=(14, 6))\n",
    "plt.title('Demand at each hour')\n",
    "sns.countplot(x='Request hour', data=df,palette='Greens')\n",
    "plt.show()"
   ]
  },
  {
   "cell_type": "markdown",
   "id": "e151e802",
   "metadata": {},
   "source": [
    "Interesting. There are a lot of requests from 5am to 9am and 5pm to 10 pm. So these are the peak hours. Let's go a step deeper and see if the early mornings, evenings and the night shifts are the prime time of the day or is there a specific winner here."
   ]
  },
  {
   "cell_type": "code",
   "execution_count": 21,
   "id": "84b39594",
   "metadata": {},
   "outputs": [
    {
     "data": {
      "image/png": "[encoded data removed]",
      "text/plain": [
       "<Figure size 864x360 with 1 Axes>"
      ]
     },
     "metadata": {
      "needs_background": "light"
     },
     "output_type": "display_data"
    }
   ],
   "source": [
    "#Creating a plot of timeslot vs count.\n",
    "plt.figure(figsize=(12, 5))\n",
    "plt.title('Demand at Time slots')\n",
    "t =sns.countplot(x='Time slot', data=df)\n",
    "plt.show()"
   ]
  },
  {
   "cell_type": "markdown",
   "id": "a711cbd7",
   "metadata": {},
   "source": [
    "Okay clearly the mornings are the winner here followed by the evenings. Also it's interesting to see that people prefer to request for a ride the least at midnight and late night."
   ]
  },
  {
   "cell_type": "markdown",
   "id": "6f1b6055",
   "metadata": {},
   "source": [
    "Now let's go a step deeper again and see if there is a pattern in this morning and evening hours."
   ]
  },
  {
   "cell_type": "code",
   "execution_count": 22,
   "id": "e22cd5e3",
   "metadata": {},
   "outputs": [
    {
     "data": {
      "image/png": "[encoded data removed]",
      "text/plain": [
       "<Figure size 864x360 with 1 Axes>"
      ]
     },
     "metadata": {
      "needs_background": "light"
     },
     "output_type": "display_data"
    }
   ],
   "source": [
    "#Creating a plot for comaprison of timeslots between airport and city.\n",
    "plt.figure(figsize=(12, 5))\n",
    "plt.title('Demand comparison')\n",
    "sns.countplot(x='Pickup point', hue=\"Time slot\", data=df)\n",
    "plt.show()"
   ]
  },
  {
   "cell_type": "markdown",
   "id": "18256de3",
   "metadata": {},
   "source": [
    "Okay so requests from the city are more in the morning while requests from the airport are more in the evening."
   ]
  },
  {
   "cell_type": "markdown",
   "id": "00f04c40",
   "metadata": {},
   "source": [
    "Having studied the demand now let's see the supply data at once."
   ]
  },
  {
   "cell_type": "code",
   "execution_count": 24,
   "id": "8b12902d",
   "metadata": {},
   "outputs": [
    {
     "data": {
      "image/png": "[encoded data removed]",
      "text/plain": [
       "<Figure size 1080x1080 with 2 Axes>"
      ]
     },
     "metadata": {
      "needs_background": "light"
     },
     "output_type": "display_data"
    }
   ],
   "source": [
    "#Creating plot for supply comparison.\n",
    "df_airport = df[(df['Pickup point'] == 'Airport')]\n",
    "df_city = df[(df['Pickup point'] == 'City')]\n",
    "\n",
    "plt.subplots(figsize = (15, 15))\n",
    "\n",
    "#subplot 1\n",
    "plt.subplot(2, 1, 1)\n",
    "plt.title('Trip Status from Airport as per timelot', size = 20)\n",
    "sns.countplot(x = \"Time slot\", hue = 'Status', data = df_airport);\n",
    "\n",
    "#subplot 2\n",
    "plt.subplot(2, 1, 2)\n",
    "plt.title('Trip Status from City as per timeslot', size = 20)\n",
    "sns.countplot(x = \"Time slot\", hue = 'Status', data = df_city);\n",
    "\n",
    "plt.show()"
   ]
  },
  {
   "cell_type": "markdown",
   "id": "152ff694",
   "metadata": {},
   "source": [
    "Okay so this is the problem; the demand from the airport is the highest in the evening but there aren't cars available; while the demand from the city is highest in the morning but the trip keeps getting cancelled a lot. Clearly there's a supply-demand gap here."
   ]
  },
  {
   "cell_type": "markdown",
   "id": "ecb266e5",
   "metadata": {},
   "source": [
    "Since the problem has been stated (supply-demand gap) let's dive deeper in studying and calculating this gap."
   ]
  },
  {
   "cell_type": "code",
   "execution_count": 25,
   "id": "09673a18",
   "metadata": {},
   "outputs": [
    {
     "data": {
      "text/plain": [
       "Status             Time slot    \n",
       "Cancelled          Afternoon         72\n",
       "                   Early morning    490\n",
       "                   Evening           59\n",
       "                   Late evening      65\n",
       "                   Late night        14\n",
       "                   Midnight          51\n",
       "                   Morning          449\n",
       "                   Night             64\n",
       "No Cars Available  Afternoon        184\n",
       "                   Early morning    233\n",
       "                   Evening          554\n",
       "                   Late evening     573\n",
       "                   Late night       225\n",
       "                   Midnight          74\n",
       "                   Morning          323\n",
       "                   Night            484\n",
       "dtype: int64"
      ]
     },
     "execution_count": 25,
     "metadata": {},
     "output_type": "execute_result"
    }
   ],
   "source": [
    "#Counting 'cancelled' and 'no cars available' status with respect to timeslots.\n",
    "df[(df['Drop timestamp'].isnull())].groupby(['Status','Time slot']).size()"
   ]
  },
  {
   "cell_type": "code",
   "execution_count": 32,
   "id": "d762b600",
   "metadata": {},
   "outputs": [
    {
     "data": {
      "text/plain": [
       "Gap\n",
       "Completed Ride    2831\n",
       "Not Completed     3914\n",
       "dtype: int64"
      ]
     },
     "execution_count": 32,
     "metadata": {},
     "output_type": "execute_result"
    }
   ],
   "source": [
    "#Calculating the gap between the demand and supply.\n",
    "df['Demand'] = 1\n",
    "df['Supply'] = 0\n",
    "df.loc[(df['Status'] == 'Trip Completed'),'Supply'] = 1\n",
    "df['Gap'] = df['Demand'] - df['Supply'] \n",
    "df.loc[df['Gap']==0,'Gap'] = 'Completed Ride'  \n",
    "df.loc[df['Gap']==1,'Gap'] = 'Not Completed'\n",
    "df.groupby(['Gap']).size()"
   ]
  },
  {
   "cell_type": "markdown",
   "id": "20783ba2",
   "metadata": {},
   "source": [
    "Thus the total gap between the demand and the supply is 3914 which is a significant number. And the two main reasons for this downfall is non availability of cars and cancellation of trips."
   ]
  },
  {
   "cell_type": "markdown",
   "id": "e2f992ba",
   "metadata": {},
   "source": [
    "Let's dive deeper now and analyse this gap from different perspectives."
   ]
  },
  {
   "cell_type": "code",
   "execution_count": 33,
   "id": "b284ba58",
   "metadata": {},
   "outputs": [
    {
     "data": {
      "image/png": "[encoded data removed]",
      "text/plain": [
       "<Figure size 720x576 with 1 Axes>"
      ]
     },
     "metadata": {
      "needs_background": "light"
     },
     "output_type": "display_data"
    }
   ],
   "source": [
    "#Studying the demand from the city to airport.\n",
    "df_city1 = df[(df['Pickup point'] == 'City')]\n",
    "\n",
    "plt.subplots(figsize = (10, 8))\n",
    "plt.title('Pickup Request from City to Airport as per hour of the day', size = 15)\n",
    "sns.countplot(x = \"Request hour\",  data = df_city1)\n",
    "\n",
    "plt.show()"
   ]
  },
  {
   "cell_type": "code",
   "execution_count": 39,
   "id": "15d93482",
   "metadata": {},
   "outputs": [],
   "source": [
    "df1 = pd.DataFrame()\n",
    "df1 = df.copy()\n",
    "df1['Status'] = 'Demand'\n",
    "df2 = df.append(df1)\n",
    "\n",
    "# Replaceing no car available and cancelled status as gap\n",
    "# Replaceing Trip completed as supply\n",
    "df2['Status'] = df2['Status'].replace(['Cancelled','No Cars Available'],'Gap')\n",
    "df2['Status'] = df2['Status'].replace(['Trip Completed'],'Supply')"
   ]
  },
  {
   "cell_type": "code",
   "execution_count": 40,
   "id": "469ce0ef",
   "metadata": {},
   "outputs": [
    {
     "data": {
      "image/png": "[encoded data removed]",
      "text/plain": [
       "<Figure size 864x432 with 1 Axes>"
      ]
     },
     "metadata": {
      "needs_background": "light"
     },
     "output_type": "display_data"
    }
   ],
   "source": [
    "#Analysing Demand and Supply Gap from \"City\" to \"Airport\"\n",
    "df_city1.loc[:, ['TotalRequests', 'SupplyGap']].plot(kind = 'bar', figsize=(12,6))\n",
    "plt.title('Demand and Supply Gap from \"City\" to \"Airport\"')\n",
    "plt.ylabel('No. of requests')\n",
    "plt.show()"
   ]
  },
  {
   "cell_type": "code",
   "execution_count": 35,
   "id": "a6becbd9",
   "metadata": {},
   "outputs": [
    {
     "data": {
      "text/html": [
       "<div>\n",
       "<style scoped>\n",
       "    .dataframe tbody tr th:only-of-type {\n",
       "        vertical-align: middle;\n",
       "    }\n",
       "\n",
       "    .dataframe tbody tr th {\n",
       "        vertical-align: top;\n",
       "    }\n",
       "\n",
       "    .dataframe thead th {\n",
       "        text-align: right;\n",
       "    }\n",
       "</style>\n",
       "<table border=\"1\" class=\"dataframe\">\n",
       "  <thead>\n",
       "    <tr style=\"text-align: right;\">\n",
       "      <th>Status</th>\n",
       "      <th>Cancelled</th>\n",
       "      <th>No Cars Available</th>\n",
       "      <th>Trip Completed</th>\n",
       "      <th>TotalRequests</th>\n",
       "      <th>SupplyGap</th>\n",
       "    </tr>\n",
       "    <tr>\n",
       "      <th>Request Hour</th>\n",
       "      <th></th>\n",
       "      <th></th>\n",
       "      <th></th>\n",
       "      <th></th>\n",
       "      <th></th>\n",
       "    </tr>\n",
       "  </thead>\n",
       "  <tbody>\n",
       "    <tr>\n",
       "      <th>0</th>\n",
       "      <td>3.0</td>\n",
       "      <td>26.0</td>\n",
       "      <td>17.0</td>\n",
       "      <td>46.0</td>\n",
       "      <td>69.0</td>\n",
       "    </tr>\n",
       "    <tr>\n",
       "      <th>1</th>\n",
       "      <td>4.0</td>\n",
       "      <td>27.0</td>\n",
       "      <td>12.0</td>\n",
       "      <td>43.0</td>\n",
       "      <td>66.0</td>\n",
       "    </tr>\n",
       "    <tr>\n",
       "      <th>2</th>\n",
       "      <td>5.0</td>\n",
       "      <td>32.0</td>\n",
       "      <td>21.0</td>\n",
       "      <td>58.0</td>\n",
       "      <td>85.0</td>\n",
       "    </tr>\n",
       "    <tr>\n",
       "      <th>3</th>\n",
       "      <td>2.0</td>\n",
       "      <td>26.0</td>\n",
       "      <td>19.0</td>\n",
       "      <td>47.0</td>\n",
       "      <td>71.0</td>\n",
       "    </tr>\n",
       "    <tr>\n",
       "      <th>4</th>\n",
       "      <td>49.0</td>\n",
       "      <td>40.0</td>\n",
       "      <td>42.0</td>\n",
       "      <td>131.0</td>\n",
       "      <td>122.0</td>\n",
       "    </tr>\n",
       "    <tr>\n",
       "      <th>5</th>\n",
       "      <td>172.0</td>\n",
       "      <td>81.0</td>\n",
       "      <td>100.0</td>\n",
       "      <td>353.0</td>\n",
       "      <td>262.0</td>\n",
       "    </tr>\n",
       "    <tr>\n",
       "      <th>6</th>\n",
       "      <td>141.0</td>\n",
       "      <td>82.0</td>\n",
       "      <td>86.0</td>\n",
       "      <td>309.0</td>\n",
       "      <td>250.0</td>\n",
       "    </tr>\n",
       "    <tr>\n",
       "      <th>7</th>\n",
       "      <td>164.0</td>\n",
       "      <td>60.0</td>\n",
       "      <td>99.0</td>\n",
       "      <td>323.0</td>\n",
       "      <td>219.0</td>\n",
       "    </tr>\n",
       "    <tr>\n",
       "      <th>8</th>\n",
       "      <td>176.0</td>\n",
       "      <td>86.0</td>\n",
       "      <td>88.0</td>\n",
       "      <td>350.0</td>\n",
       "      <td>260.0</td>\n",
       "    </tr>\n",
       "    <tr>\n",
       "      <th>9</th>\n",
       "      <td>167.0</td>\n",
       "      <td>76.0</td>\n",
       "      <td>99.0</td>\n",
       "      <td>342.0</td>\n",
       "      <td>251.0</td>\n",
       "    </tr>\n",
       "    <tr>\n",
       "      <th>10</th>\n",
       "      <td>53.0</td>\n",
       "      <td>52.0</td>\n",
       "      <td>63.0</td>\n",
       "      <td>168.0</td>\n",
       "      <td>167.0</td>\n",
       "    </tr>\n",
       "    <tr>\n",
       "      <th>11</th>\n",
       "      <td>10.0</td>\n",
       "      <td>31.0</td>\n",
       "      <td>66.0</td>\n",
       "      <td>107.0</td>\n",
       "      <td>128.0</td>\n",
       "    </tr>\n",
       "    <tr>\n",
       "      <th>12</th>\n",
       "      <td>9.0</td>\n",
       "      <td>30.0</td>\n",
       "      <td>58.0</td>\n",
       "      <td>97.0</td>\n",
       "      <td>118.0</td>\n",
       "    </tr>\n",
       "    <tr>\n",
       "      <th>13</th>\n",
       "      <td>9.0</td>\n",
       "      <td>32.0</td>\n",
       "      <td>54.0</td>\n",
       "      <td>95.0</td>\n",
       "      <td>118.0</td>\n",
       "    </tr>\n",
       "    <tr>\n",
       "      <th>14</th>\n",
       "      <td>5.0</td>\n",
       "      <td>30.0</td>\n",
       "      <td>51.0</td>\n",
       "      <td>86.0</td>\n",
       "      <td>111.0</td>\n",
       "    </tr>\n",
       "    <tr>\n",
       "      <th>15</th>\n",
       "      <td>10.0</td>\n",
       "      <td>35.0</td>\n",
       "      <td>50.0</td>\n",
       "      <td>95.0</td>\n",
       "      <td>120.0</td>\n",
       "    </tr>\n",
       "    <tr>\n",
       "      <th>16</th>\n",
       "      <td>8.0</td>\n",
       "      <td>37.0</td>\n",
       "      <td>53.0</td>\n",
       "      <td>98.0</td>\n",
       "      <td>127.0</td>\n",
       "    </tr>\n",
       "    <tr>\n",
       "      <th>17</th>\n",
       "      <td>16.0</td>\n",
       "      <td>17.0</td>\n",
       "      <td>77.0</td>\n",
       "      <td>110.0</td>\n",
       "      <td>111.0</td>\n",
       "    </tr>\n",
       "    <tr>\n",
       "      <th>18</th>\n",
       "      <td>9.0</td>\n",
       "      <td>13.0</td>\n",
       "      <td>83.0</td>\n",
       "      <td>105.0</td>\n",
       "      <td>109.0</td>\n",
       "    </tr>\n",
       "    <tr>\n",
       "      <th>19</th>\n",
       "      <td>9.0</td>\n",
       "      <td>15.0</td>\n",
       "      <td>83.0</td>\n",
       "      <td>107.0</td>\n",
       "      <td>113.0</td>\n",
       "    </tr>\n",
       "    <tr>\n",
       "      <th>20</th>\n",
       "      <td>12.0</td>\n",
       "      <td>15.0</td>\n",
       "      <td>87.0</td>\n",
       "      <td>114.0</td>\n",
       "      <td>117.0</td>\n",
       "    </tr>\n",
       "    <tr>\n",
       "      <th>21</th>\n",
       "      <td>14.0</td>\n",
       "      <td>11.0</td>\n",
       "      <td>81.0</td>\n",
       "      <td>106.0</td>\n",
       "      <td>103.0</td>\n",
       "    </tr>\n",
       "    <tr>\n",
       "      <th>22</th>\n",
       "      <td>9.0</td>\n",
       "      <td>38.0</td>\n",
       "      <td>74.0</td>\n",
       "      <td>121.0</td>\n",
       "      <td>150.0</td>\n",
       "    </tr>\n",
       "    <tr>\n",
       "      <th>23</th>\n",
       "      <td>10.0</td>\n",
       "      <td>45.0</td>\n",
       "      <td>41.0</td>\n",
       "      <td>96.0</td>\n",
       "      <td>131.0</td>\n",
       "    </tr>\n",
       "  </tbody>\n",
       "</table>\n",
       "</div>"
      ],
      "text/plain": [
       "Status        Cancelled  No Cars Available  Trip Completed  TotalRequests  \\\n",
       "Request Hour                                                                \n",
       "0                   3.0               26.0            17.0           46.0   \n",
       "1                   4.0               27.0            12.0           43.0   \n",
       "2                   5.0               32.0            21.0           58.0   \n",
       "3                   2.0               26.0            19.0           47.0   \n",
       "4                  49.0               40.0            42.0          131.0   \n",
       "5                 172.0               81.0           100.0          353.0   \n",
       "6                 141.0               82.0            86.0          309.0   \n",
       "7                 164.0               60.0            99.0          323.0   \n",
       "8                 176.0               86.0            88.0          350.0   \n",
       "9                 167.0               76.0            99.0          342.0   \n",
       "10                 53.0               52.0            63.0          168.0   \n",
       "11                 10.0               31.0            66.0          107.0   \n",
       "12                  9.0               30.0            58.0           97.0   \n",
       "13                  9.0               32.0            54.0           95.0   \n",
       "14                  5.0               30.0            51.0           86.0   \n",
       "15                 10.0               35.0            50.0           95.0   \n",
       "16                  8.0               37.0            53.0           98.0   \n",
       "17                 16.0               17.0            77.0          110.0   \n",
       "18                  9.0               13.0            83.0          105.0   \n",
       "19                  9.0               15.0            83.0          107.0   \n",
       "20                 12.0               15.0            87.0          114.0   \n",
       "21                 14.0               11.0            81.0          106.0   \n",
       "22                  9.0               38.0            74.0          121.0   \n",
       "23                 10.0               45.0            41.0           96.0   \n",
       "\n",
       "Status        SupplyGap  \n",
       "Request Hour             \n",
       "0                  69.0  \n",
       "1                  66.0  \n",
       "2                  85.0  \n",
       "3                  71.0  \n",
       "4                 122.0  \n",
       "5                 262.0  \n",
       "6                 250.0  \n",
       "7                 219.0  \n",
       "8                 260.0  \n",
       "9                 251.0  \n",
       "10                167.0  \n",
       "11                128.0  \n",
       "12                118.0  \n",
       "13                118.0  \n",
       "14                111.0  \n",
       "15                120.0  \n",
       "16                127.0  \n",
       "17                111.0  \n",
       "18                109.0  \n",
       "19                113.0  \n",
       "20                117.0  \n",
       "21                103.0  \n",
       "22                150.0  \n",
       "23                131.0  "
      ]
     },
     "execution_count": 35,
     "metadata": {},
     "output_type": "execute_result"
    }
   ],
   "source": [
    "#Analysing the supply-demand from city to airport.\n",
    "df_city1 = dfgrp2.loc['City'].T\n",
    "df_city1['TotalRequests'] = df_city1['Cancelled'] +  df_city1['No Cars Available'] + df_city1['Trip Completed']\n",
    "df_city1['SupplyGap'] = df_city1['TotalRequests'] - df_city1['Cancelled'] +  df_city1['No Cars Available']\n",
    "df_city1"
   ]
  },
  {
   "cell_type": "code",
   "execution_count": 36,
   "id": "23475631",
   "metadata": {},
   "outputs": [
    {
     "data": {
      "image/png": "[encoded data removed]",
      "text/plain": [
       "<Figure size 720x576 with 1 Axes>"
      ]
     },
     "metadata": {
      "needs_background": "light"
     },
     "output_type": "display_data"
    }
   ],
   "source": [
    "#Studying the demand from the airport to city.\n",
    "df_airport1 = df[(df['Pickup point'] == 'Airport')]\n",
    "\n",
    "plt.subplots(figsize = (10, 8))\n",
    "plt.title('Pickup Request from Airport to City as per hour of the day', size = 15)\n",
    "sns.countplot(x = \"Request hour\",  data = df_airport1)\n",
    "\n",
    "plt.show()"
   ]
  },
  {
   "cell_type": "code",
   "execution_count": 41,
   "id": "d9656172",
   "metadata": {},
   "outputs": [
    {
     "data": {
      "image/png": "[encoded data removed]",
      "text/plain": [
       "<Figure size 864x432 with 1 Axes>"
      ]
     },
     "metadata": {
      "needs_background": "light"
     },
     "output_type": "display_data"
    }
   ],
   "source": [
    "#Analysing Demand and Supply Gap from \"Airport\" to \"City\".\n",
    "df_airport1.loc[:,['TotalRequests', 'SupplyGap']].plot(kind = 'bar', figsize=(12,6))\n",
    "plt.title('Demand and Supply Gap from \"Airport\" to \"City\"')\n",
    "plt.ylabel('No. of requests')\n",
    "plt.show()"
   ]
  },
  {
   "cell_type": "code",
   "execution_count": 38,
   "id": "11363eee",
   "metadata": {},
   "outputs": [
    {
     "data": {
      "text/html": [
       "<div>\n",
       "<style scoped>\n",
       "    .dataframe tbody tr th:only-of-type {\n",
       "        vertical-align: middle;\n",
       "    }\n",
       "\n",
       "    .dataframe tbody tr th {\n",
       "        vertical-align: top;\n",
       "    }\n",
       "\n",
       "    .dataframe thead th {\n",
       "        text-align: right;\n",
       "    }\n",
       "</style>\n",
       "<table border=\"1\" class=\"dataframe\">\n",
       "  <thead>\n",
       "    <tr style=\"text-align: right;\">\n",
       "      <th>Status</th>\n",
       "      <th>Cancelled</th>\n",
       "      <th>No Cars Available</th>\n",
       "      <th>Trip Completed</th>\n",
       "      <th>TotalRequests</th>\n",
       "      <th>SupplyGap</th>\n",
       "    </tr>\n",
       "    <tr>\n",
       "      <th>Request Hour</th>\n",
       "      <th></th>\n",
       "      <th></th>\n",
       "      <th></th>\n",
       "      <th></th>\n",
       "      <th></th>\n",
       "    </tr>\n",
       "  </thead>\n",
       "  <tbody>\n",
       "    <tr>\n",
       "      <th>0</th>\n",
       "      <td>NaN</td>\n",
       "      <td>30.0</td>\n",
       "      <td>23.0</td>\n",
       "      <td>NaN</td>\n",
       "      <td>NaN</td>\n",
       "    </tr>\n",
       "    <tr>\n",
       "      <th>1</th>\n",
       "      <td>NaN</td>\n",
       "      <td>29.0</td>\n",
       "      <td>13.0</td>\n",
       "      <td>NaN</td>\n",
       "      <td>NaN</td>\n",
       "    </tr>\n",
       "    <tr>\n",
       "      <th>2</th>\n",
       "      <td>NaN</td>\n",
       "      <td>25.0</td>\n",
       "      <td>16.0</td>\n",
       "      <td>NaN</td>\n",
       "      <td>NaN</td>\n",
       "    </tr>\n",
       "    <tr>\n",
       "      <th>3</th>\n",
       "      <td>NaN</td>\n",
       "      <td>30.0</td>\n",
       "      <td>15.0</td>\n",
       "      <td>NaN</td>\n",
       "      <td>NaN</td>\n",
       "    </tr>\n",
       "    <tr>\n",
       "      <th>4</th>\n",
       "      <td>2.0</td>\n",
       "      <td>34.0</td>\n",
       "      <td>36.0</td>\n",
       "      <td>72.0</td>\n",
       "      <td>104.0</td>\n",
       "    </tr>\n",
       "    <tr>\n",
       "      <th>5</th>\n",
       "      <td>4.0</td>\n",
       "      <td>3.0</td>\n",
       "      <td>85.0</td>\n",
       "      <td>92.0</td>\n",
       "      <td>91.0</td>\n",
       "    </tr>\n",
       "    <tr>\n",
       "      <th>6</th>\n",
       "      <td>4.0</td>\n",
       "      <td>4.0</td>\n",
       "      <td>81.0</td>\n",
       "      <td>89.0</td>\n",
       "      <td>89.0</td>\n",
       "    </tr>\n",
       "    <tr>\n",
       "      <th>7</th>\n",
       "      <td>5.0</td>\n",
       "      <td>3.0</td>\n",
       "      <td>75.0</td>\n",
       "      <td>83.0</td>\n",
       "      <td>81.0</td>\n",
       "    </tr>\n",
       "    <tr>\n",
       "      <th>8</th>\n",
       "      <td>2.0</td>\n",
       "      <td>4.0</td>\n",
       "      <td>67.0</td>\n",
       "      <td>73.0</td>\n",
       "      <td>75.0</td>\n",
       "    </tr>\n",
       "    <tr>\n",
       "      <th>9</th>\n",
       "      <td>8.0</td>\n",
       "      <td>7.0</td>\n",
       "      <td>74.0</td>\n",
       "      <td>89.0</td>\n",
       "      <td>88.0</td>\n",
       "    </tr>\n",
       "    <tr>\n",
       "      <th>10</th>\n",
       "      <td>9.0</td>\n",
       "      <td>13.0</td>\n",
       "      <td>53.0</td>\n",
       "      <td>75.0</td>\n",
       "      <td>79.0</td>\n",
       "    </tr>\n",
       "    <tr>\n",
       "      <th>11</th>\n",
       "      <td>5.0</td>\n",
       "      <td>10.0</td>\n",
       "      <td>49.0</td>\n",
       "      <td>64.0</td>\n",
       "      <td>69.0</td>\n",
       "    </tr>\n",
       "    <tr>\n",
       "      <th>12</th>\n",
       "      <td>10.0</td>\n",
       "      <td>14.0</td>\n",
       "      <td>63.0</td>\n",
       "      <td>87.0</td>\n",
       "      <td>91.0</td>\n",
       "    </tr>\n",
       "    <tr>\n",
       "      <th>13</th>\n",
       "      <td>9.0</td>\n",
       "      <td>21.0</td>\n",
       "      <td>35.0</td>\n",
       "      <td>65.0</td>\n",
       "      <td>77.0</td>\n",
       "    </tr>\n",
       "    <tr>\n",
       "      <th>14</th>\n",
       "      <td>6.0</td>\n",
       "      <td>7.0</td>\n",
       "      <td>37.0</td>\n",
       "      <td>50.0</td>\n",
       "      <td>51.0</td>\n",
       "    </tr>\n",
       "    <tr>\n",
       "      <th>15</th>\n",
       "      <td>11.0</td>\n",
       "      <td>13.0</td>\n",
       "      <td>52.0</td>\n",
       "      <td>76.0</td>\n",
       "      <td>78.0</td>\n",
       "    </tr>\n",
       "    <tr>\n",
       "      <th>16</th>\n",
       "      <td>14.0</td>\n",
       "      <td>9.0</td>\n",
       "      <td>38.0</td>\n",
       "      <td>61.0</td>\n",
       "      <td>56.0</td>\n",
       "    </tr>\n",
       "    <tr>\n",
       "      <th>17</th>\n",
       "      <td>19.0</td>\n",
       "      <td>215.0</td>\n",
       "      <td>74.0</td>\n",
       "      <td>308.0</td>\n",
       "      <td>504.0</td>\n",
       "    </tr>\n",
       "    <tr>\n",
       "      <th>18</th>\n",
       "      <td>15.0</td>\n",
       "      <td>309.0</td>\n",
       "      <td>81.0</td>\n",
       "      <td>405.0</td>\n",
       "      <td>699.0</td>\n",
       "    </tr>\n",
       "    <tr>\n",
       "      <th>19</th>\n",
       "      <td>15.0</td>\n",
       "      <td>268.0</td>\n",
       "      <td>83.0</td>\n",
       "      <td>366.0</td>\n",
       "      <td>619.0</td>\n",
       "    </tr>\n",
       "    <tr>\n",
       "      <th>20</th>\n",
       "      <td>29.0</td>\n",
       "      <td>275.0</td>\n",
       "      <td>74.0</td>\n",
       "      <td>378.0</td>\n",
       "      <td>624.0</td>\n",
       "    </tr>\n",
       "    <tr>\n",
       "      <th>21</th>\n",
       "      <td>28.0</td>\n",
       "      <td>254.0</td>\n",
       "      <td>61.0</td>\n",
       "      <td>343.0</td>\n",
       "      <td>569.0</td>\n",
       "    </tr>\n",
       "    <tr>\n",
       "      <th>22</th>\n",
       "      <td>3.0</td>\n",
       "      <td>100.0</td>\n",
       "      <td>80.0</td>\n",
       "      <td>183.0</td>\n",
       "      <td>280.0</td>\n",
       "    </tr>\n",
       "    <tr>\n",
       "      <th>23</th>\n",
       "      <td>NaN</td>\n",
       "      <td>36.0</td>\n",
       "      <td>62.0</td>\n",
       "      <td>NaN</td>\n",
       "      <td>NaN</td>\n",
       "    </tr>\n",
       "  </tbody>\n",
       "</table>\n",
       "</div>"
      ],
      "text/plain": [
       "Status        Cancelled  No Cars Available  Trip Completed  TotalRequests  \\\n",
       "Request Hour                                                                \n",
       "0                   NaN               30.0            23.0            NaN   \n",
       "1                   NaN               29.0            13.0            NaN   \n",
       "2                   NaN               25.0            16.0            NaN   \n",
       "3                   NaN               30.0            15.0            NaN   \n",
       "4                   2.0               34.0            36.0           72.0   \n",
       "5                   4.0                3.0            85.0           92.0   \n",
       "6                   4.0                4.0            81.0           89.0   \n",
       "7                   5.0                3.0            75.0           83.0   \n",
       "8                   2.0                4.0            67.0           73.0   \n",
       "9                   8.0                7.0            74.0           89.0   \n",
       "10                  9.0               13.0            53.0           75.0   \n",
       "11                  5.0               10.0            49.0           64.0   \n",
       "12                 10.0               14.0            63.0           87.0   \n",
       "13                  9.0               21.0            35.0           65.0   \n",
       "14                  6.0                7.0            37.0           50.0   \n",
       "15                 11.0               13.0            52.0           76.0   \n",
       "16                 14.0                9.0            38.0           61.0   \n",
       "17                 19.0              215.0            74.0          308.0   \n",
       "18                 15.0              309.0            81.0          405.0   \n",
       "19                 15.0              268.0            83.0          366.0   \n",
       "20                 29.0              275.0            74.0          378.0   \n",
       "21                 28.0              254.0            61.0          343.0   \n",
       "22                  3.0              100.0            80.0          183.0   \n",
       "23                  NaN               36.0            62.0            NaN   \n",
       "\n",
       "Status        SupplyGap  \n",
       "Request Hour             \n",
       "0                   NaN  \n",
       "1                   NaN  \n",
       "2                   NaN  \n",
       "3                   NaN  \n",
       "4                 104.0  \n",
       "5                  91.0  \n",
       "6                  89.0  \n",
       "7                  81.0  \n",
       "8                  75.0  \n",
       "9                  88.0  \n",
       "10                 79.0  \n",
       "11                 69.0  \n",
       "12                 91.0  \n",
       "13                 77.0  \n",
       "14                 51.0  \n",
       "15                 78.0  \n",
       "16                 56.0  \n",
       "17                504.0  \n",
       "18                699.0  \n",
       "19                619.0  \n",
       "20                624.0  \n",
       "21                569.0  \n",
       "22                280.0  \n",
       "23                  NaN  "
      ]
     },
     "execution_count": 38,
     "metadata": {},
     "output_type": "execute_result"
    }
   ],
   "source": [
    "#Analysing the supply-demand from the airport to city.\n",
    "df_airport1 = dfgrp2.loc['Airport'].T\n",
    "df_airport1['TotalRequests'] = df_airport1['Cancelled'] +  df_airport1['No Cars Available'] + df_airport1['Trip Completed']\n",
    "df_airport1['SupplyGap'] = df_airport1['TotalRequests'] - df_airport1['Cancelled'] +  df_airport1['No Cars Available']\n",
    "df_airport1"
   ]
  },
  {
   "cell_type": "code",
   "execution_count": 43,
   "id": "1351b8a1",
   "metadata": {},
   "outputs": [
    {
     "data": {
      "text/plain": [
       "6745"
      ]
     },
     "execution_count": 43,
     "metadata": {},
     "output_type": "execute_result"
    }
   ],
   "source": [
    "# To Check for overall supply demand and gap accross city and airport.\n",
    "\n",
    "# Total Demand.\n",
    "Total_Demand_Overall = df2[(df2[\"Status\"] == \"Demand\")] \n",
    "len(Total_Demand_Overall.index)"
   ]
  },
  {
   "cell_type": "code",
   "execution_count": 44,
   "id": "19f373d6",
   "metadata": {},
   "outputs": [
    {
     "data": {
      "text/plain": [
       "2831"
      ]
     },
     "execution_count": 44,
     "metadata": {},
     "output_type": "execute_result"
    }
   ],
   "source": [
    "# Total Supply.\n",
    "Total_Supply_Overall = df2[(df2[\"Status\"] == 'Supply')]\n",
    "len(Total_Supply_Overall.index)"
   ]
  },
  {
   "cell_type": "code",
   "execution_count": 45,
   "id": "9687ada4",
   "metadata": {},
   "outputs": [
    {
     "data": {
      "text/plain": [
       "3914"
      ]
     },
     "execution_count": 45,
     "metadata": {},
     "output_type": "execute_result"
    }
   ],
   "source": [
    "# Total Supply-Demand Gap.\n",
    "Supply_Demand_Gap_Overall = df2[(df2[\"Status\"] == 'Gap')]\n",
    "len(Supply_Demand_Gap_Overall.index)\n"
   ]
  },
  {
   "cell_type": "code",
   "execution_count": 46,
   "id": "d4926f88",
   "metadata": {},
   "outputs": [
    {
     "data": {
      "text/plain": [
       "41.971830985915496"
      ]
     },
     "execution_count": 46,
     "metadata": {},
     "output_type": "execute_result"
    }
   ],
   "source": [
    "#Percentage difference in demand supply.\n",
    "Percentage_Diff_Overall = (((len(df2[(df2[\"Status\"] == 'Supply')].index))/(len(df2[(df2[\"Status\"] == 'Demand')].index)))*100)\n",
    "Percentage_Diff_Overall"
   ]
  },
  {
   "cell_type": "code",
   "execution_count": 47,
   "id": "041ac6e0",
   "metadata": {},
   "outputs": [
    {
     "data": {
      "text/plain": [
       "3507"
      ]
     },
     "execution_count": 47,
     "metadata": {},
     "output_type": "execute_result"
    }
   ],
   "source": [
    "# Total Demand in City.\n",
    "Total_Demand_City = df2[(df2[\"Pickup point\"] == \"City\") & (df2[\"Status\"] == \"Demand\")] \n",
    "len(Total_Demand_City.index)"
   ]
  },
  {
   "cell_type": "code",
   "execution_count": 48,
   "id": "b69f0470",
   "metadata": {},
   "outputs": [
    {
     "data": {
      "text/plain": [
       "1504"
      ]
     },
     "execution_count": 48,
     "metadata": {},
     "output_type": "execute_result"
    }
   ],
   "source": [
    "# Total Supply in City.\n",
    "Total_Supply_City = df2[(df2[\"Pickup point\"] == \"City\") & (df2[\"Status\"] == \"Supply\")]\n",
    "len(Total_Supply_City.index)"
   ]
  },
  {
   "cell_type": "code",
   "execution_count": 49,
   "id": "c92b7ca4",
   "metadata": {},
   "outputs": [
    {
     "data": {
      "text/plain": [
       "2003"
      ]
     },
     "execution_count": 49,
     "metadata": {},
     "output_type": "execute_result"
    }
   ],
   "source": [
    "# Total Gap in City.\n",
    "Supply_Demand_Gap_City = df2[(df2[\"Pickup point\"] == \"City\") & (df2[\"Status\"] == \"Gap\")] \n",
    "len(Supply_Demand_Gap_City.index)"
   ]
  },
  {
   "cell_type": "code",
   "execution_count": 50,
   "id": "4560204d",
   "metadata": {},
   "outputs": [
    {
     "data": {
      "text/plain": [
       "42.88565725691475"
      ]
     },
     "execution_count": 50,
     "metadata": {},
     "output_type": "execute_result"
    }
   ],
   "source": [
    "#Percentage difference in demand supply.\n",
    "Percentage_Diff_City = (((len(df2[(df2[\"Pickup point\"] == \"City\") & (df2[\"Status\"] == \"Supply\")].index))/\n",
    "                            (len(df2[(df2[\"Pickup point\"] == \"City\") & (df2[\"Status\"] == \"Demand\")].index)))*100)\n",
    "Percentage_Diff_City"
   ]
  },
  {
   "cell_type": "code",
   "execution_count": 51,
   "id": "10218fb5",
   "metadata": {},
   "outputs": [],
   "source": [
    "# Let's create pie charts instead of a count plots\n",
    "def pie_chart(dataframe):\n",
    "    labels = dataframe.index.values\n",
    "    sizes = dataframe['Status'].values\n",
    "        \n",
    "    fig1, ax1 = plt.subplots()\n",
    "    ax1.pie(sizes, labels=labels, autopct='%1.1f%%', shadow=True, startangle=90)\n",
    "    ax1.axis('equal')                   # Equal aspect ratio ensures that pie is drawn as a circle.\n",
    "    plt.show()"
   ]
  },
  {
   "cell_type": "code",
   "execution_count": 52,
   "id": "0d5173b0",
   "metadata": {},
   "outputs": [
    {
     "data": {
      "image/png": "[encoded data removed]",
      "text/plain": [
       "<Figure size 432x288 with 1 Axes>"
      ]
     },
     "metadata": {},
     "output_type": "display_data"
    }
   ],
   "source": [
    "# Percentage breakup of status on the basis of pickup location\n",
    "# Status of trips in Morning where pickup point is City\n",
    "df_city = df.loc[(df[\"Pickup point\"] == \"City\") & (df[\"Time slot\"] == \"Morning\")]\n",
    "df_city_count = pd.DataFrame(df_city.Status.value_counts())\n",
    "pie_chart(df_city_count)"
   ]
  },
  {
   "cell_type": "code",
   "execution_count": 53,
   "id": "c0075147",
   "metadata": {},
   "outputs": [
    {
     "data": {
      "image/png": "[encoded data removed]",
      "text/plain": [
       "<Figure size 432x288 with 1 Axes>"
      ]
     },
     "metadata": {},
     "output_type": "display_data"
    }
   ],
   "source": [
    "# Status of trips in Evening where pickup point is Airport\n",
    "df_airport = df.loc[(df[\"Pickup point\"] == \"Airport\") & (df[\"Time slot\"] == \"Evening\")] \n",
    "df_airport_count = pd.DataFrame(df_airport.Status.value_counts())\n",
    "pie_chart(df_airport_count)"
   ]
  },
  {
   "cell_type": "code",
   "execution_count": null,
   "id": "63b6425c",
   "metadata": {},
   "outputs": [],
   "source": []
  }
 ],
 "metadata": {
  "kernelspec": {
   "display_name": "Python 3",
   "language": "python",
   "name": "python3"
  },
  "language_info": {
   "codemirror_mode": {
    "name": "ipython",
    "version": 3
   },
   "file_extension": ".py",
   "mimetype": "text/x-python",
   "name": "python",
   "nbconvert_exporter": "python",
   "pygments_lexer": "ipython3",
   "version": "3.8.8"
  }
 },
 "nbformat": 4,
 "nbformat_minor": 5
}
